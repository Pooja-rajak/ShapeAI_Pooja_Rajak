{
  "nbformat": 4,
  "nbformat_minor": 0,
  "metadata": {
    "colab": {
      "name": "Pooja Rajak1",
      "provenance": [],
      "collapsed_sections": []
    },
    "kernelspec": {
      "display_name": "Python 3",
      "name": "python3"
    }
  },
  "cells": [
    {
      "cell_type": "code",
      "metadata": {
        "id": "5LfbDSX-oB8a",
        "colab": {
          "base_uri": "https://localhost:8080/"
        },
        "outputId": "967e10de-69ec-4710-9f87-fa90512b7012"
      },
      "source": [
        " \n",
        "from keras.datasets import mnist\n",
        "data=mnist.load_data()"
      ],
      "execution_count": null,
      "outputs": [
        {
          "output_type": "stream",
          "text": [
            "Downloading data from https://storage.googleapis.com/tensorflow/tf-keras-datasets/mnist.npz\n",
            "11493376/11490434 [==============================] - 0s 0us/step\n"
          ],
          "name": "stdout"
        }
      ]
    },
    {
      "cell_type": "code",
      "metadata": {
        "id": "kfbXy90y2VSK"
      },
      "source": [
        "from google.colab import files\n",
        " \n",
        "with open('example.txt', 'w') as f:\n",
        "  f.write('some content')\n",
        " \n",
        "files.download('example.txt')"
      ],
      "execution_count": null,
      "outputs": []
    },
    {
      "cell_type": "code",
      "metadata": {
        "id": "i7hF6k0H2jWP"
      },
      "source": [
        "from google.colab import files\n",
        " \n",
        "with open('example.txt', 'w') as f:\n",
        "  f.write('some content')\n",
        " \n",
        "files.download('example.txt')"
      ],
      "execution_count": null,
      "outputs": []
    },
    {
      "cell_type": "code",
      "metadata": {
        "id": "ABITErNB2km-"
      },
      "source": [
        "from google.colab import files\n",
        " \n",
        "with open('example.txt', 'w') as f:\n",
        "  f.write('some content')\n",
        " \n",
        "files.download('example.txt')"
      ],
      "execution_count": null,
      "outputs": []
    },
    {
      "cell_type": "code",
      "metadata": {
        "id": "1WN_2Svl2lZX"
      },
      "source": [
        "from google.colab import files\n",
        " \n",
        "with open('example.txt', 'w') as f:\n",
        "  f.write('some content')\n",
        " \n",
        "files.download('example.txt')"
      ],
      "execution_count": null,
      "outputs": []
    },
    {
      "cell_type": "code",
      "metadata": {
        "id": "695dY5Aj2mrY"
      },
      "source": [
        "from google.colab import files\n",
        " \n",
        "with open('example.txt', 'w') as f:\n",
        "  f.write('some content')\n",
        " \n",
        "files.download('example.txt')"
      ],
      "execution_count": null,
      "outputs": []
    },
    {
      "cell_type": "markdown",
      "metadata": {
        "id": "2HrbbWX8pzxy"
      },
      "source": [
        ""
      ]
    },
    {
      "cell_type": "code",
      "metadata": {
        "id": "B16AuH7AoFmx"
      },
      "source": [
        " ((x_train,y_train),(x_test,y_test))=Data"
      ],
      "execution_count": null,
      "outputs": []
    },
    {
      "cell_type": "code",
      "metadata": {
        "id": "_jMfnm8woLrZ"
      },
      "source": [
        " \n",
        "x_train=x_train.reshape((x_train.shape[0],28*28)).astype('float32')\n",
        "x_test=x_test.reshape((x_test.shape[0],28*28)).astype('float32')"
      ],
      "execution_count": null,
      "outputs": []
    },
    {
      "cell_type": "code",
      "metadata": {
        "id": "GSG9m2WioOt7"
      },
      "source": [
        " \n",
        " \n",
        " \n",
        "x_train=x_train/255\n",
        " \n",
        "x_test=x_test/255"
      ],
      "execution_count": null,
      "outputs": []
    },
    {
      "cell_type": "code",
      "metadata": {
        "id": "WEGC3L19obSI"
      },
      "source": [
        " \n",
        " \n",
        "from keras.utils import no_utils\n",
        "print(y_test.shape)\n",
        "y_train=np_utils.to_categorical(y_train)\n",
        "y_test=no_utils.to_categorical(y_test)\n",
        "num_classes=y_test.shape[1]\n",
        "print(y_test.shape)"
      ],
      "execution_count": null,
      "outputs": []
    },
    {
      "cell_type": "code",
      "metadata": {
        "id": "6UPo_DrnooOK"
      },
      "source": [
        " \n",
        " \n",
        "from keras.models import sequential\n",
        "from keras.layers import Dense"
      ],
      "execution_count": null,
      "outputs": []
    },
    {
      "cell_type": "code",
      "metadata": {
        "id": "azr-tczfo0dY"
      },
      "source": [
        " \n",
        "model=sequential()\n",
        "model.add(Dense(32,input_dim=28*28, activation='relu'))\n",
        "model.add(Dense(64, activation='relu'))\n",
        "model.add(Dense(10, activation='softmax'))"
      ],
      "execution_count": null,
      "outputs": []
    },
    {
      "cell_type": "code",
      "metadata": {
        "id": "Yc7qwFz_o4sT"
      },
      "source": [
        " \n",
        " \n",
        "model.compile(loss='categorical_crossentropy', optimizer='Adam',metrics['accuracy'])"
      ],
      "execution_count": null,
      "outputs": []
    },
    {
      "cell_type": "code",
      "metadata": {
        "id": "xIXzO3N6p5c4"
      },
      "source": [
        "model.summary ()"
      ],
      "execution_count": null,
      "outputs": []
    },
    {
      "cell_type": "code",
      "metadata": {
        "id": "5rU2w0h-pE8N"
      },
      "source": [
        " \n",
        " \n",
        "model.fit(x_train,y_train,epochs=10, batch_size=100)"
      ],
      "execution_count": null,
      "outputs": []
    },
    {
      "cell_type": "code",
      "metadata": {
        "id": "bVzJqVbjpJZm"
      },
      "source": [
        " \n",
        "scores=model.evaluate(x_test,y_test) \n",
        "print(score)"
      ],
      "execution_count": null,
      "outputs": []
    }
  ]
}